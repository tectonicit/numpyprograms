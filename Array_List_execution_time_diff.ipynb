{
 "cells": [
  {
   "cell_type": "code",
   "execution_count": 41,
   "metadata": {},
   "outputs": [],
   "source": [
    "import numpy as np\n"
   ]
  },
  {
   "cell_type": "code",
   "execution_count": null,
   "metadata": {},
   "outputs": [],
   "source": [
    "#execution time required by list"
   ]
  },
  {
   "cell_type": "code",
   "execution_count": 46,
   "metadata": {},
   "outputs": [
    {
     "output_type": "stream",
     "name": "stdout",
     "text": "Wall time: 56 ms\n"
    }
   ],
   "source": [
    "%%time\n",
    "mylist=list(range(1,100000))\n",
    "temp=[]\n",
    "for x in mylist:\n",
    "    temp.append(x*x)\n"
   ]
  },
  {
   "cell_type": "code",
   "execution_count": null,
   "metadata": {},
   "outputs": [],
   "source": [
    "#execution time required by list"
   ]
  },
  {
   "cell_type": "code",
   "execution_count": 53,
   "metadata": {},
   "outputs": [
    {
     "output_type": "stream",
     "name": "stdout",
     "text": "Wall time: 18 ms\n"
    }
   ],
   "source": [
    "%%time\n",
    "mylist=list(range(1,100000))\n",
    "arr=np.array(mylist)\n",
    "np.square(arr)"
   ]
  },
  {
   "cell_type": "code",
   "execution_count": null,
   "metadata": {},
   "outputs": [],
   "source": [
    "#using numpy array we can directly perofrm arithmatic operation on array.(without for loop)"
   ]
  },
  {
   "cell_type": "code",
   "execution_count": 55,
   "metadata": {},
   "outputs": [
    {
     "output_type": "execute_result",
     "data": {
      "text/plain": "array([[10, 20, 30],\n       [40, 50, 60],\n       [70, 80, 90]])"
     },
     "metadata": {},
     "execution_count": 55
    }
   ],
   "source": [
    "arr1=np.array([[10,20,30],[40,50,60],[70,80,90]])\n",
    "arr1"
   ]
  },
  {
   "cell_type": "code",
   "execution_count": 56,
   "metadata": {},
   "outputs": [
    {
     "output_type": "execute_result",
     "data": {
      "text/plain": "array([[11, 21, 31],\n       [41, 51, 61],\n       [71, 81, 91]])"
     },
     "metadata": {},
     "execution_count": 56
    }
   ],
   "source": [
    "arr2=np.array([[11,21,31],[41,51,61],[71,81,91]])\n",
    "arr2"
   ]
  },
  {
   "cell_type": "code",
   "execution_count": 57,
   "metadata": {},
   "outputs": [
    {
     "output_type": "execute_result",
     "data": {
      "text/plain": "array([[ 21,  41,  61],\n       [ 81, 101, 121],\n       [141, 161, 181]])"
     },
     "metadata": {},
     "execution_count": 57
    }
   ],
   "source": [
    "arr1+arr2"
   ]
  },
  {
   "cell_type": "code",
   "execution_count": 58,
   "metadata": {},
   "outputs": [
    {
     "output_type": "execute_result",
     "data": {
      "text/plain": "array([[ 110,  420,  930],\n       [1640, 2550, 3660],\n       [4970, 6480, 8190]])"
     },
     "metadata": {},
     "execution_count": 58
    }
   ],
   "source": [
    "arr1*arr2"
   ]
  },
  {
   "cell_type": "code",
   "execution_count": 59,
   "metadata": {},
   "outputs": [
    {
     "output_type": "execute_result",
     "data": {
      "text/plain": "array([[-1, -1, -1],\n       [-1, -1, -1],\n       [-1, -1, -1]])"
     },
     "metadata": {},
     "execution_count": 59
    }
   ],
   "source": [
    "arr1-arr2"
   ]
  },
  {
   "cell_type": "code",
   "execution_count": null,
   "metadata": {},
   "outputs": [],
   "source": []
  }
 ],
 "metadata": {
  "language_info": {
   "codemirror_mode": {
    "name": "ipython",
    "version": 3
   },
   "file_extension": ".py",
   "mimetype": "text/x-python",
   "name": "python",
   "nbconvert_exporter": "python",
   "pygments_lexer": "ipython3",
   "version": "3.6.0-final"
  },
  "orig_nbformat": 2,
  "kernelspec": {
   "name": "python36064bit52c340bd7ebb4fcbb27cf9eb4ffd313f",
   "display_name": "Python 3.6.0 64-bit"
  }
 },
 "nbformat": 4,
 "nbformat_minor": 2
}