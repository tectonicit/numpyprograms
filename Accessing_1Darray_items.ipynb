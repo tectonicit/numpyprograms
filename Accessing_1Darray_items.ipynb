{
 "cells": [
  {
   "cell_type": "code",
   "execution_count": 30,
   "metadata": {},
   "outputs": [],
   "source": [
    "import numpy as np"
   ]
  },
  {
   "cell_type": "code",
   "execution_count": 31,
   "metadata": {},
   "outputs": [],
   "source": [
    "#create 1D array\n",
    "arr=np.array([10,20,30,40,50,60,70,80,90])"
   ]
  },
  {
   "cell_type": "code",
   "execution_count": 32,
   "metadata": {},
   "outputs": [
    {
     "output_type": "execute_result",
     "data": {
      "text/plain": "array([10, 20, 30, 40, 50, 60, 70, 80, 90])"
     },
     "metadata": {},
     "execution_count": 32
    }
   ],
   "source": [
    "arr"
   ]
  },
  {
   "cell_type": "code",
   "execution_count": 33,
   "metadata": {},
   "outputs": [
    {
     "output_type": "execute_result",
     "data": {
      "text/plain": "10"
     },
     "metadata": {},
     "execution_count": 33
    }
   ],
   "source": [
    "#show first item\n",
    "arr[0]"
   ]
  },
  {
   "cell_type": "code",
   "execution_count": 35,
   "metadata": {},
   "outputs": [
    {
     "output_type": "execute_result",
     "data": {
      "text/plain": "array([30, 40, 50, 60, 70, 80])"
     },
     "metadata": {},
     "execution_count": 35
    }
   ],
   "source": [
    "#show items between index 2 to 8(8 index is not included)\n",
    "arr[2:8]"
   ]
  },
  {
   "cell_type": "code",
   "execution_count": 36,
   "metadata": {},
   "outputs": [
    {
     "output_type": "execute_result",
     "data": {
      "text/plain": "array([30, 40, 50, 60, 70, 80, 90])"
     },
     "metadata": {},
     "execution_count": 36
    }
   ],
   "source": [
    "#show items between index 2 to end\n",
    "arr[2:]"
   ]
  },
  {
   "cell_type": "code",
   "execution_count": 37,
   "metadata": {},
   "outputs": [
    {
     "output_type": "execute_result",
     "data": {
      "text/plain": "array([10, 20, 30, 40, 50, 60, 70, 80])"
     },
     "metadata": {},
     "execution_count": 37
    }
   ],
   "source": [
    "#show items between index first to 7\n",
    "arr[:8]"
   ]
  },
  {
   "cell_type": "code",
   "execution_count": 40,
   "metadata": {},
   "outputs": [
    {
     "output_type": "execute_result",
     "data": {
      "text/plain": "90"
     },
     "metadata": {},
     "execution_count": 40
    }
   ],
   "source": [
    "#show last item(Last item has index -1)\n",
    "arr[-1]"
   ]
  },
  {
   "cell_type": "code",
   "execution_count": 41,
   "metadata": {},
   "outputs": [
    {
     "output_type": "execute_result",
     "data": {
      "text/plain": "80"
     },
     "metadata": {},
     "execution_count": 41
    }
   ],
   "source": [
    "#show last item(Last item has index -1)\n",
    "arr[-2]"
   ]
  },
  {
   "cell_type": "code",
   "execution_count": 42,
   "metadata": {},
   "outputs": [
    {
     "output_type": "execute_result",
     "data": {
      "text/plain": "array([30, 40])"
     },
     "metadata": {},
     "execution_count": 42
    }
   ],
   "source": [
    "#show item present at index 2 and 3 (fancy indexing)\n",
    "arr[[2,3]]"
   ]
  },
  {
   "cell_type": "code",
   "execution_count": 43,
   "metadata": {},
   "outputs": [
    {
     "output_type": "execute_result",
     "data": {
      "text/plain": "array([20, 80])"
     },
     "metadata": {},
     "execution_count": 43
    }
   ],
   "source": [
    "#show item present at index 1 and 7 (fancy indexing)\n",
    "arr[[1,7]]"
   ]
  },
  {
   "cell_type": "code",
   "execution_count": null,
   "metadata": {},
   "outputs": [],
   "source": []
  }
 ],
 "metadata": {
  "language_info": {
   "codemirror_mode": {
    "name": "ipython",
    "version": 3
   },
   "file_extension": ".py",
   "mimetype": "text/x-python",
   "name": "python",
   "nbconvert_exporter": "python",
   "pygments_lexer": "ipython3",
   "version": "3.6.0-final"
  },
  "orig_nbformat": 2,
  "kernelspec": {
   "name": "python36064bit52c340bd7ebb4fcbb27cf9eb4ffd313f",
   "display_name": "Python 3.6.0 64-bit"
  }
 },
 "nbformat": 4,
 "nbformat_minor": 2
}