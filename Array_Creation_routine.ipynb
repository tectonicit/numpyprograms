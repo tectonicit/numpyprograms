{
 "cells": [
  {
   "cell_type": "code",
   "execution_count": 44,
   "metadata": {},
   "outputs": [],
   "source": [
    "import numpy as np"
   ]
  },
  {
   "cell_type": "code",
   "execution_count": 54,
   "metadata": {},
   "outputs": [
    {
     "output_type": "execute_result",
     "data": {
      "text/plain": "array([[10., 20.],\n       [30., 40.],\n       [50., 60.]])"
     },
     "metadata": {},
     "execution_count": 54
    }
   ],
   "source": [
    "#create Ndarray by using array function and order is Fortran(column major)\n",
    "arr=np.array([[10,20],[30,40],[50,60]],dtype=float,order=\"F\")\n",
    "arr"
   ]
  },
  {
   "cell_type": "code",
   "execution_count": 55,
   "metadata": {},
   "outputs": [
    {
     "output_type": "execute_result",
     "data": {
      "text/plain": "array([10., 30., 50., 20., 40., 60.])"
     },
     "metadata": {},
     "execution_count": 55
    }
   ],
   "source": [
    "# this code show how column major store data in memory. K value does not change order\n",
    "arr=arr.flatten(order='K')\n",
    "arr"
   ]
  },
  {
   "cell_type": "code",
   "execution_count": 56,
   "metadata": {},
   "outputs": [
    {
     "output_type": "execute_result",
     "data": {
      "text/plain": "array([1, 3, 5, 7, 9])"
     },
     "metadata": {},
     "execution_count": 56
    }
   ],
   "source": [
    "#create array by using arange function\n",
    "arr=np.arange(1,10,2)\n",
    "arr"
   ]
  },
  {
   "cell_type": "code",
   "execution_count": 58,
   "metadata": {},
   "outputs": [
    {
     "output_type": "execute_result",
     "data": {
      "text/plain": "array([0, 1, 2])"
     },
     "metadata": {},
     "execution_count": 58
    }
   ],
   "source": [
    "arr=np.arange(3)\n",
    "arr"
   ]
  },
  {
   "cell_type": "code",
   "execution_count": 20,
   "metadata": {},
   "outputs": [
    {
     "output_type": "execute_result",
     "data": {
      "text/plain": "array([[6.52166653e-322, 0.00000000e+000, 0.00000000e+000],\n       [0.00000000e+000, 0.00000000e+000, 4.44659081e-321],\n       [4.45044989e-307, 5.11793470e-307, 2.78147474e-307]])"
     },
     "metadata": {},
     "execution_count": 20
    }
   ],
   "source": [
    "#create array by using empty function\n",
    "arr1=np.empty([3,3])\n",
    "arr1"
   ]
  },
  {
   "cell_type": "code",
   "execution_count": 22,
   "metadata": {},
   "outputs": [
    {
     "output_type": "execute_result",
     "data": {
      "text/plain": "array([[1., 0., 0.],\n       [0., 1., 0.],\n       [0., 0., 1.]])"
     },
     "metadata": {},
     "execution_count": 22
    }
   ],
   "source": [
    "#create array by using identity function\n",
    "arr1=np.identity(3)\n",
    "arr1"
   ]
  },
  {
   "cell_type": "code",
   "execution_count": 23,
   "metadata": {},
   "outputs": [
    {
     "output_type": "execute_result",
     "data": {
      "text/plain": "array([[1., 1., 1.],\n       [1., 1., 1.],\n       [1., 1., 1.]])"
     },
     "metadata": {},
     "execution_count": 23
    }
   ],
   "source": [
    "#create array by using ones function\n",
    "arr1=np.ones([3,3])\n",
    "arr1"
   ]
  },
  {
   "cell_type": "code",
   "execution_count": 24,
   "metadata": {},
   "outputs": [
    {
     "output_type": "execute_result",
     "data": {
      "text/plain": "array([[0., 0., 0.],\n       [0., 0., 0.],\n       [0., 0., 0.]])"
     },
     "metadata": {},
     "execution_count": 24
    }
   ],
   "source": [
    "#create array by using zeros function\n",
    "arr1=np.zeros([3,3])\n",
    "arr1"
   ]
  },
  {
   "cell_type": "code",
   "execution_count": 25,
   "metadata": {},
   "outputs": [
    {
     "output_type": "execute_result",
     "data": {
      "text/plain": "array([[9, 9, 9],\n       [9, 9, 9],\n       [9, 9, 9]])"
     },
     "metadata": {},
     "execution_count": 25
    }
   ],
   "source": [
    "#create array by using full function\n",
    "arr1=np.full([3,3],9)\n",
    "arr1"
   ]
  },
  {
   "cell_type": "code",
   "execution_count": 26,
   "metadata": {},
   "outputs": [
    {
     "output_type": "execute_result",
     "data": {
      "text/plain": "array([ 1.        ,  1.47368421,  1.94736842,  2.42105263,  2.89473684,\n        3.36842105,  3.84210526,  4.31578947,  4.78947368,  5.26315789,\n        5.73684211,  6.21052632,  6.68421053,  7.15789474,  7.63157895,\n        8.10526316,  8.57894737,  9.05263158,  9.52631579, 10.        ])"
     },
     "metadata": {},
     "execution_count": 26
    }
   ],
   "source": [
    "#create array by using linspace function\n",
    "arr1=np.linspace(1,10,20)\n",
    "arr1"
   ]
  },
  {
   "cell_type": "code",
   "execution_count": 31,
   "metadata": {},
   "outputs": [
    {
     "output_type": "execute_result",
     "data": {
      "text/plain": "matrix([[1, 2],\n        [3, 4]])"
     },
     "metadata": {},
     "execution_count": 31
    }
   ],
   "source": [
    "#create array by using mat function\n",
    "arr1=np.mat('1 2;3 4')\n",
    "arr1"
   ]
  },
  {
   "cell_type": "code",
   "execution_count": null,
   "metadata": {},
   "outputs": [],
   "source": []
  }
 ],
 "metadata": {
  "language_info": {
   "codemirror_mode": {
    "name": "ipython",
    "version": 3
   },
   "file_extension": ".py",
   "mimetype": "text/x-python",
   "name": "python",
   "nbconvert_exporter": "python",
   "pygments_lexer": "ipython3",
   "version": "3.6.0-final"
  },
  "orig_nbformat": 2,
  "kernelspec": {
   "name": "python36064bit52c340bd7ebb4fcbb27cf9eb4ffd313f",
   "display_name": "Python 3.6.0 64-bit"
  }
 },
 "nbformat": 4,
 "nbformat_minor": 2
}