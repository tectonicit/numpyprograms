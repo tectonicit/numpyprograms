{
 "cells": [
  {
   "cell_type": "code",
   "execution_count": 1,
   "metadata": {},
   "outputs": [],
   "source": [
    "import numpy as np"
   ]
  },
  {
   "cell_type": "code",
   "execution_count": 29,
   "metadata": {},
   "outputs": [],
   "source": [
    "# This file shows how to access 2 D array in numpy"
   ]
  },
  {
   "cell_type": "code",
   "execution_count": 15,
   "metadata": {},
   "outputs": [
    {
     "output_type": "execute_result",
     "data": {
      "text/plain": "array([10, 20, 30, 40, 50, 60, 70, 80, 90])"
     },
     "metadata": {},
     "execution_count": 15
    }
   ],
   "source": [
    "#create array by using list items\n",
    "arr=np.array([10,20,30,40,50,60,70,80,90])\n",
    "arr"
   ]
  },
  {
   "cell_type": "code",
   "execution_count": 17,
   "metadata": {},
   "outputs": [
    {
     "output_type": "execute_result",
     "data": {
      "text/plain": "array([[10, 20, 30],\n       [40, 50, 60],\n       [70, 80, 90]])"
     },
     "metadata": {},
     "execution_count": 17
    }
   ],
   "source": [
    "#reshape array and convert to 3X3 matrix\n",
    "arr=arr.reshape([3,3])\n",
    "arr"
   ]
  },
  {
   "cell_type": "code",
   "execution_count": 18,
   "metadata": {},
   "outputs": [
    {
     "output_type": "execute_result",
     "data": {
      "text/plain": "array([10, 20, 30])"
     },
     "metadata": {},
     "execution_count": 18
    }
   ],
   "source": [
    "#access first row\n",
    "arr[0]"
   ]
  },
  {
   "cell_type": "code",
   "execution_count": 19,
   "metadata": {},
   "outputs": [
    {
     "output_type": "execute_result",
     "data": {
      "text/plain": "30"
     },
     "metadata": {},
     "execution_count": 19
    }
   ],
   "source": [
    "#access row 0 and column 2 item\n",
    "arr[0,2]"
   ]
  },
  {
   "cell_type": "code",
   "execution_count": 20,
   "metadata": {},
   "outputs": [
    {
     "output_type": "execute_result",
     "data": {
      "text/plain": "90"
     },
     "metadata": {},
     "execution_count": 20
    }
   ],
   "source": [
    "#access row 2 and column 2 item\n",
    "arr[2,2]"
   ]
  },
  {
   "cell_type": "code",
   "execution_count": 21,
   "metadata": {},
   "outputs": [
    {
     "output_type": "execute_result",
     "data": {
      "text/plain": "array([10, 40, 70])"
     },
     "metadata": {},
     "execution_count": 21
    }
   ],
   "source": [
    "#access all rows first column\n",
    "arr[::,0]"
   ]
  },
  {
   "cell_type": "code",
   "execution_count": 22,
   "metadata": {},
   "outputs": [
    {
     "output_type": "execute_result",
     "data": {
      "text/plain": "array([[10, 20, 30],\n       [70, 80, 90]])"
     },
     "metadata": {},
     "execution_count": 22
    }
   ],
   "source": [
    "#fancy indexing. Access 0 and 2 rows\n",
    "arr[[0,2]]"
   ]
  },
  {
   "cell_type": "code",
   "execution_count": 23,
   "metadata": {},
   "outputs": [
    {
     "output_type": "execute_result",
     "data": {
      "text/plain": "array([[70, 80, 90],\n       [40, 50, 60]])"
     },
     "metadata": {},
     "execution_count": 23
    }
   ],
   "source": [
    "#fancy indexing. Access 2 and 1 rows\n",
    "arr[[2,1]]"
   ]
  },
  {
   "cell_type": "code",
   "execution_count": 28,
   "metadata": {},
   "outputs": [
    {
     "output_type": "execute_result",
     "data": {
      "text/plain": "array([[70, 80, 90],\n       [40, 50, 60],\n       [10, 20, 30]])"
     },
     "metadata": {},
     "execution_count": 28
    }
   ],
   "source": [
    "#display all rows in reverse order\n",
    "arr[::-1,::]"
   ]
  },
  {
   "cell_type": "code",
   "execution_count": null,
   "metadata": {},
   "outputs": [],
   "source": []
  }
 ],
 "metadata": {
  "language_info": {
   "codemirror_mode": {
    "name": "ipython",
    "version": 3
   },
   "file_extension": ".py",
   "mimetype": "text/x-python",
   "name": "python",
   "nbconvert_exporter": "python",
   "pygments_lexer": "ipython3",
   "version": "3.6.0-final"
  },
  "orig_nbformat": 2,
  "kernelspec": {
   "name": "python36064bit52c340bd7ebb4fcbb27cf9eb4ffd313f",
   "display_name": "Python 3.6.0 64-bit"
  }
 },
 "nbformat": 4,
 "nbformat_minor": 2
}