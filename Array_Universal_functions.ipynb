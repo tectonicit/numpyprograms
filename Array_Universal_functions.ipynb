{
 "cells": [
  {
   "cell_type": "code",
   "execution_count": 1,
   "metadata": {},
   "outputs": [],
   "source": [
    "import numpy as np"
   ]
  },
  {
   "cell_type": "code",
   "execution_count": null,
   "metadata": {},
   "outputs": [],
   "source": [
    "#computation on numpy array can be very fast or it can be slow\n",
    "#the key to making it fast is to use vectorized operations. Generally impplemented through numpy's universal #function"
   ]
  },
  {
   "cell_type": "code",
   "execution_count": 3,
   "metadata": {},
   "outputs": [],
   "source": [
    "def cal(arr1):\n",
    "    temp=np.empty(len(arr1))\n",
    "    for i in range(0,len(arr1)):\n",
    "        temp[i]=1/arr[i]\n",
    "    return temp\n"
   ]
  },
  {
   "cell_type": "code",
   "execution_count": 4,
   "metadata": {},
   "outputs": [
    {
     "output_type": "stream",
     "name": "stdout",
     "text": "378 ms ± 6.73 ms per loop (mean ± std. dev. of 7 runs, 1 loop each)\n"
    }
   ],
   "source": [
    "arr=np.arange(1,1000000)\n",
    "%timeit cal(arr)"
   ]
  },
  {
   "cell_type": "code",
   "execution_count": 5,
   "metadata": {},
   "outputs": [
    {
     "output_type": "stream",
     "name": "stdout",
     "text": "4.18 ms ± 101 µs per loop (mean ± std. dev. of 7 runs, 100 loops each)\n"
    }
   ],
   "source": [
    "%timeit 1/arr"
   ]
  },
  {
   "cell_type": "code",
   "execution_count": 7,
   "metadata": {},
   "outputs": [
    {
     "output_type": "execute_result",
     "data": {
      "text/plain": "array([0, 1, 2, 3])"
     },
     "metadata": {},
     "execution_count": 7
    }
   ],
   "source": [
    "#Arithmatic universal function.\n",
    "arr=np.arange(4)\n",
    "arr"
   ]
  },
  {
   "cell_type": "code",
   "execution_count": 8,
   "metadata": {},
   "outputs": [
    {
     "output_type": "execute_result",
     "data": {
      "text/plain": "array([5, 6, 7, 8])"
     },
     "metadata": {},
     "execution_count": 8
    }
   ],
   "source": [
    "np.add(arr,5)"
   ]
  },
  {
   "cell_type": "code",
   "execution_count": 9,
   "metadata": {},
   "outputs": [
    {
     "output_type": "execute_result",
     "data": {
      "text/plain": "array([-5, -4, -3, -2])"
     },
     "metadata": {},
     "execution_count": 9
    }
   ],
   "source": [
    "np.subtract(arr,5)"
   ]
  },
  {
   "cell_type": "code",
   "execution_count": 11,
   "metadata": {},
   "outputs": [
    {
     "output_type": "execute_result",
     "data": {
      "text/plain": "array([ 0,  1,  8, 27], dtype=int32)"
     },
     "metadata": {},
     "execution_count": 11
    }
   ],
   "source": [
    "np.power(arr,3)"
   ]
  },
  {
   "cell_type": "code",
   "execution_count": 13,
   "metadata": {},
   "outputs": [
    {
     "output_type": "execute_result",
     "data": {
      "text/plain": "array([0, 1, 0, 1], dtype=int32)"
     },
     "metadata": {},
     "execution_count": 13
    }
   ],
   "source": [
    "np.mod(arr,2)"
   ]
  },
  {
   "cell_type": "code",
   "execution_count": 14,
   "metadata": {},
   "outputs": [
    {
     "output_type": "execute_result",
     "data": {
      "text/plain": "array([ 0,  5, 10, 15])"
     },
     "metadata": {},
     "execution_count": 14
    }
   ],
   "source": [
    "np.multiply(arr,5)"
   ]
  },
  {
   "cell_type": "code",
   "execution_count": 15,
   "metadata": {},
   "outputs": [
    {
     "output_type": "execute_result",
     "data": {
      "text/plain": "array([0. , 0.5, 1. , 1.5])"
     },
     "metadata": {},
     "execution_count": 15
    }
   ],
   "source": [
    "np.divide(arr,2)"
   ]
  },
  {
   "cell_type": "code",
   "execution_count": 16,
   "metadata": {},
   "outputs": [
    {
     "output_type": "execute_result",
     "data": {
      "text/plain": "array([0, 1, 4, 9], dtype=int32)"
     },
     "metadata": {},
     "execution_count": 16
    }
   ],
   "source": [
    "np.square(arr)"
   ]
  },
  {
   "cell_type": "code",
   "execution_count": 19,
   "metadata": {},
   "outputs": [
    {
     "output_type": "execute_result",
     "data": {
      "text/plain": "60"
     },
     "metadata": {},
     "execution_count": 19
    }
   ],
   "source": [
    "#Returns the lowest common multiple of |x1| and |x2|\n",
    "np.lcm(12, 20)"
   ]
  },
  {
   "cell_type": "code",
   "execution_count": 20,
   "metadata": {},
   "outputs": [
    {
     "output_type": "execute_result",
     "data": {
      "text/plain": "60"
     },
     "metadata": {},
     "execution_count": 20
    }
   ],
   "source": [
    "np.lcm.reduce([3, 12, 20])"
   ]
  },
  {
   "cell_type": "code",
   "execution_count": 21,
   "metadata": {},
   "outputs": [
    {
     "output_type": "execute_result",
     "data": {
      "text/plain": "array([0.        , 1.        , 1.41421356, 1.73205081])"
     },
     "metadata": {},
     "execution_count": 21
    }
   ],
   "source": [
    "#Return the non-negative square-root of an array, element-wise.\n",
    "np.sqrt(arr)"
   ]
  },
  {
   "cell_type": "code",
   "execution_count": 26,
   "metadata": {},
   "outputs": [
    {
     "output_type": "execute_result",
     "data": {
      "text/plain": "4"
     },
     "metadata": {},
     "execution_count": 26
    }
   ],
   "source": [
    "#Returns the greatest common divisor of |x1| and |x2|\n",
    "np.gcd(12, 20)"
   ]
  },
  {
   "cell_type": "code",
   "execution_count": 27,
   "metadata": {},
   "outputs": [
    {
     "output_type": "execute_result",
     "data": {
      "text/plain": "5"
     },
     "metadata": {},
     "execution_count": 27
    }
   ],
   "source": [
    "np.gcd.reduce([15, 25, 35])"
   ]
  },
  {
   "cell_type": "code",
   "execution_count": 28,
   "metadata": {},
   "outputs": [
    {
     "output_type": "execute_result",
     "data": {
      "text/plain": "array([0, 1], dtype=int32)"
     },
     "metadata": {},
     "execution_count": 28
    }
   ],
   "source": [
    "#Return element-wise remainder of division.\n",
    "np.remainder([4, 7], [2, 3])"
   ]
  },
  {
   "cell_type": "code",
   "execution_count": 29,
   "metadata": {},
   "outputs": [
    {
     "output_type": "execute_result",
     "data": {
      "text/plain": "array([ 1.        ,  2.71828183,  7.3890561 , 20.08553692])"
     },
     "metadata": {},
     "execution_count": 29
    }
   ],
   "source": [
    "#Calculate the exponential of all elements in the input array.\n",
    "np.exp(arr)"
   ]
  },
  {
   "cell_type": "code",
   "execution_count": 31,
   "metadata": {},
   "outputs": [
    {
     "output_type": "execute_result",
     "data": {
      "text/plain": "array([1., 2., 4., 8.])"
     },
     "metadata": {},
     "execution_count": 31
    }
   ],
   "source": [
    "#Calculate 2**p for all p in the input array.'\n",
    "np.exp2(arr)"
   ]
  },
  {
   "cell_type": "code",
   "execution_count": 32,
   "metadata": {},
   "outputs": [
    {
     "output_type": "execute_result",
     "data": {
      "text/plain": "array([      -inf, 0.        , 0.69314718, 1.09861229])"
     },
     "metadata": {},
     "execution_count": 32
    }
   ],
   "source": [
    "#Natural logarithm, element-wise.\n",
    "np.log(arr)"
   ]
  },
  {
   "cell_type": "code",
   "execution_count": 33,
   "metadata": {},
   "outputs": [
    {
     "output_type": "execute_result",
     "data": {
      "text/plain": "array([      -inf, 0.        , 0.30103   , 0.47712125])"
     },
     "metadata": {},
     "execution_count": 33
    }
   ],
   "source": [
    "#Return the base 10 logarithm of the input array, element-wise.\n",
    "np.log10(arr)"
   ]
  },
  {
   "cell_type": "code",
   "execution_count": 34,
   "metadata": {},
   "outputs": [
    {
     "output_type": "execute_result",
     "data": {
      "text/plain": "array([     -inf, 0.       , 1.       , 1.5849625])"
     },
     "metadata": {},
     "execution_count": 34
    }
   ],
   "source": [
    "#Base-2 logarithm of x.\n",
    "np.log2(arr)"
   ]
  },
  {
   "cell_type": "code",
   "execution_count": 39,
   "metadata": {},
   "outputs": [
    {
     "output_type": "execute_result",
     "data": {
      "text/plain": "array([1.2, 1.2])"
     },
     "metadata": {},
     "execution_count": 39
    }
   ],
   "source": [
    "#Calculate the absolute value element-wise.\n",
    "x = np.array([-1.2, 1.2])\n",
    "np.abs(x)"
   ]
  },
  {
   "cell_type": "code",
   "execution_count": null,
   "metadata": {},
   "outputs": [],
   "source": [
    "#Trigonometric functions\n"
   ]
  },
  {
   "cell_type": "code",
   "execution_count": 42,
   "metadata": {},
   "outputs": [
    {
     "output_type": "execute_result",
     "data": {
      "text/plain": "array([0.        , 0.52359878, 0.78539816, 1.04719755, 1.57079633])"
     },
     "metadata": {},
     "execution_count": 42
    }
   ],
   "source": [
    "#Trigonometric sine, element-wise. input Angle, in radians\n",
    "arr2=np.array((0., 30., 45., 60., 90.)) \n",
    "arr2=arr2* np.pi / 180\n",
    "arr2"
   ]
  },
  {
   "cell_type": "code",
   "execution_count": 48,
   "metadata": {},
   "outputs": [
    {
     "output_type": "execute_result",
     "data": {
      "text/plain": "array([0.        , 0.5       , 0.70710678, 0.8660254 , 1.        ])"
     },
     "metadata": {},
     "execution_count": 48
    }
   ],
   "source": [
    "r=np.sin(arr2)\n",
    "r"
   ]
  },
  {
   "cell_type": "code",
   "execution_count": 49,
   "metadata": {},
   "outputs": [
    {
     "output_type": "execute_result",
     "data": {
      "text/plain": "array([0.        , 0.52359878, 0.78539816, 1.04719755, 1.57079633])"
     },
     "metadata": {},
     "execution_count": 49
    }
   ],
   "source": [
    "#Inverse sine, element-wise.\n",
    "np.arcsin(r)"
   ]
  },
  {
   "cell_type": "code",
   "execution_count": 51,
   "metadata": {},
   "outputs": [
    {
     "output_type": "execute_result",
     "data": {
      "text/plain": "array([1.00000000e+00, 8.66025404e-01, 7.07106781e-01, 5.00000000e-01,\n       6.12323400e-17])"
     },
     "metadata": {},
     "execution_count": 51
    }
   ],
   "source": [
    "#Cosine element-wise.\n",
    "r=np.cos(arr2)\n",
    "r\n"
   ]
  },
  {
   "cell_type": "code",
   "execution_count": 52,
   "metadata": {},
   "outputs": [
    {
     "output_type": "execute_result",
     "data": {
      "text/plain": "array([0.        , 0.52359878, 0.78539816, 1.04719755, 1.57079633])"
     },
     "metadata": {},
     "execution_count": 52
    }
   ],
   "source": [
    "#Inverse cos, element-wise.\n",
    "np.arccos(r)"
   ]
  },
  {
   "cell_type": "code",
   "execution_count": 53,
   "metadata": {},
   "outputs": [
    {
     "output_type": "execute_result",
     "data": {
      "text/plain": "array([0.00000000e+00, 5.77350269e-01, 1.00000000e+00, 1.73205081e+00,\n       1.63312394e+16])"
     },
     "metadata": {},
     "execution_count": 53
    }
   ],
   "source": [
    "#Compute tangent element-wise.\n",
    "r=np.tan(arr2)\n",
    "r"
   ]
  },
  {
   "cell_type": "code",
   "execution_count": 54,
   "metadata": {},
   "outputs": [
    {
     "output_type": "execute_result",
     "data": {
      "text/plain": "array([0.        , 0.52359878, 0.78539816, 1.04719755, 1.57079633])"
     },
     "metadata": {},
     "execution_count": 54
    }
   ],
   "source": [
    "#Inverse tan, element-wise.\n",
    "np.arctan(r)"
   ]
  },
  {
   "cell_type": "code",
   "execution_count": 55,
   "metadata": {},
   "outputs": [
    {
     "output_type": "execute_result",
     "data": {
      "text/plain": "3.141592653589793"
     },
     "metadata": {},
     "execution_count": 55
    }
   ],
   "source": [
    "#Convert angles from degrees to radians.\n",
    "np.deg2rad(180)"
   ]
  },
  {
   "cell_type": "code",
   "execution_count": 56,
   "metadata": {},
   "outputs": [
    {
     "output_type": "execute_result",
     "data": {
      "text/plain": "90.0"
     },
     "metadata": {},
     "execution_count": 56
    }
   ],
   "source": [
    "#Convert angles from radians to degrees.\n",
    "np.rad2deg(np.pi/2)"
   ]
  },
  {
   "cell_type": "code",
   "execution_count": null,
   "metadata": {},
   "outputs": [],
   "source": []
  }
 ],
 "metadata": {
  "language_info": {
   "codemirror_mode": {
    "name": "ipython",
    "version": 3
   },
   "file_extension": ".py",
   "mimetype": "text/x-python",
   "name": "python",
   "nbconvert_exporter": "python",
   "pygments_lexer": "ipython3",
   "version": "3.8.2-final"
  },
  "orig_nbformat": 2,
  "kernelspec": {
   "name": "python38264bita24cbcab1ce5499294cf58e6e5ca52c6",
   "display_name": "Python 3.8.2 64-bit"
  }
 },
 "nbformat": 4,
 "nbformat_minor": 2
}